{
 "cells": [
  {
   "cell_type": "code",
   "id": "initial_id",
   "metadata": {
    "collapsed": true,
    "ExecuteTime": {
     "end_time": "2024-08-16T16:53:54.994025Z",
     "start_time": "2024-08-16T16:53:54.507904Z"
    }
   },
   "source": [
    "import pandas as pd\n",
    "\n",
    "# Load the dataset\n",
    "file_path = 'dell_laptop_20240816190023.csv'\n",
    "df = pd.read_csv(file_path)\n",
    "\n",
    "# Display the first few rows of the dataset to understand its structure\n",
    "df.head()"
   ],
   "outputs": [
    {
     "data": {
      "text/plain": [
       "                                         description price  \\\n",
       "0  14.1'' Laptop Screen Extender, 1080P FHD Porta...   179   \n",
       "1  13-14 Inch Laptop Case Hard Shell, Protective ...    37   \n",
       "2  Dell Latitude 5320 2in1 Gen2 Touchscreen Lapto...   429   \n",
       "3  Inspiron 15 15.6\" Laptop (FHD Touchscreen, AMD...   495   \n",
       "4  Latitude 7430 7000 Business Laptop (14\" FHD, I...   844   \n",
       "\n",
       "               rating  review_count  \\\n",
       "0  4.5 out of 5 stars           NaN   \n",
       "1  4.5 out of 5 stars           NaN   \n",
       "2  4.7 out of 5 stars           NaN   \n",
       "3  4.0 out of 5 stars           NaN   \n",
       "4                 NaN           NaN   \n",
       "\n",
       "                                                 url  \n",
       "0  https://www.amazon.com/sspa/click?ie=UTF8&spc=...  \n",
       "1  https://www.amazon.com/sspa/click?ie=UTF8&spc=...  \n",
       "2  https://www.amazon.com/Dell-Latitude-Touchscre...  \n",
       "3  https://www.amazon.com/Dell-Inspiron-Touchscre...  \n",
       "4  https://www.amazon.com/Dell-Latitude-7420-Busi...  "
      ],
      "text/html": [
       "<div>\n",
       "<style scoped>\n",
       "    .dataframe tbody tr th:only-of-type {\n",
       "        vertical-align: middle;\n",
       "    }\n",
       "\n",
       "    .dataframe tbody tr th {\n",
       "        vertical-align: top;\n",
       "    }\n",
       "\n",
       "    .dataframe thead th {\n",
       "        text-align: right;\n",
       "    }\n",
       "</style>\n",
       "<table border=\"1\" class=\"dataframe\">\n",
       "  <thead>\n",
       "    <tr style=\"text-align: right;\">\n",
       "      <th></th>\n",
       "      <th>description</th>\n",
       "      <th>price</th>\n",
       "      <th>rating</th>\n",
       "      <th>review_count</th>\n",
       "      <th>url</th>\n",
       "    </tr>\n",
       "  </thead>\n",
       "  <tbody>\n",
       "    <tr>\n",
       "      <th>0</th>\n",
       "      <td>14.1'' Laptop Screen Extender, 1080P FHD Porta...</td>\n",
       "      <td>179</td>\n",
       "      <td>4.5 out of 5 stars</td>\n",
       "      <td>NaN</td>\n",
       "      <td>https://www.amazon.com/sspa/click?ie=UTF8&amp;spc=...</td>\n",
       "    </tr>\n",
       "    <tr>\n",
       "      <th>1</th>\n",
       "      <td>13-14 Inch Laptop Case Hard Shell, Protective ...</td>\n",
       "      <td>37</td>\n",
       "      <td>4.5 out of 5 stars</td>\n",
       "      <td>NaN</td>\n",
       "      <td>https://www.amazon.com/sspa/click?ie=UTF8&amp;spc=...</td>\n",
       "    </tr>\n",
       "    <tr>\n",
       "      <th>2</th>\n",
       "      <td>Dell Latitude 5320 2in1 Gen2 Touchscreen Lapto...</td>\n",
       "      <td>429</td>\n",
       "      <td>4.7 out of 5 stars</td>\n",
       "      <td>NaN</td>\n",
       "      <td>https://www.amazon.com/Dell-Latitude-Touchscre...</td>\n",
       "    </tr>\n",
       "    <tr>\n",
       "      <th>3</th>\n",
       "      <td>Inspiron 15 15.6\" Laptop (FHD Touchscreen, AMD...</td>\n",
       "      <td>495</td>\n",
       "      <td>4.0 out of 5 stars</td>\n",
       "      <td>NaN</td>\n",
       "      <td>https://www.amazon.com/Dell-Inspiron-Touchscre...</td>\n",
       "    </tr>\n",
       "    <tr>\n",
       "      <th>4</th>\n",
       "      <td>Latitude 7430 7000 Business Laptop (14\" FHD, I...</td>\n",
       "      <td>844</td>\n",
       "      <td>NaN</td>\n",
       "      <td>NaN</td>\n",
       "      <td>https://www.amazon.com/Dell-Latitude-7420-Busi...</td>\n",
       "    </tr>\n",
       "  </tbody>\n",
       "</table>\n",
       "</div>"
      ]
     },
     "execution_count": 1,
     "metadata": {},
     "output_type": "execute_result"
    }
   ],
   "execution_count": 1
  },
  {
   "metadata": {
    "ExecuteTime": {
     "end_time": "2024-08-16T16:53:57.565751Z",
     "start_time": "2024-08-16T16:53:57.548543Z"
    }
   },
   "cell_type": "code",
   "source": [
    "# Clean and convert 'price' to a numerical format\n",
    "df['price'] = pd.to_numeric(df['price'], errors='coerce')\n",
    "\n",
    "# Extract the numerical rating from the 'rating' column and convert it to a float\n",
    "df['rating'] = df['rating'].str.extract(r'(\\d+\\.\\d+)').astype(float)\n",
    "\n",
    "# Handle missing values in 'rating' and 'review_count'\n",
    "df['rating'].fillna(df['rating'].mean(), inplace=True)\n",
    "df['review_count'].fillna(0, inplace=True)\n",
    "\n",
    "# Drop any remaining rows with missing values in 'price'\n",
    "df.dropna(subset=['price'], inplace=True)\n",
    "\n",
    "# Display the cleaned data\n",
    "df.head()\n",
    "\n"
   ],
   "id": "37010dc71847964",
   "outputs": [
    {
     "data": {
      "text/plain": [
       "                                         description  price   rating  \\\n",
       "0  14.1'' Laptop Screen Extender, 1080P FHD Porta...  179.0  4.50000   \n",
       "1  13-14 Inch Laptop Case Hard Shell, Protective ...   37.0  4.50000   \n",
       "2  Dell Latitude 5320 2in1 Gen2 Touchscreen Lapto...  429.0  4.70000   \n",
       "3  Inspiron 15 15.6\" Laptop (FHD Touchscreen, AMD...  495.0  4.00000   \n",
       "4  Latitude 7430 7000 Business Laptop (14\" FHD, I...  844.0  4.29596   \n",
       "\n",
       "   review_count                                                url  \n",
       "0           0.0  https://www.amazon.com/sspa/click?ie=UTF8&spc=...  \n",
       "1           0.0  https://www.amazon.com/sspa/click?ie=UTF8&spc=...  \n",
       "2           0.0  https://www.amazon.com/Dell-Latitude-Touchscre...  \n",
       "3           0.0  https://www.amazon.com/Dell-Inspiron-Touchscre...  \n",
       "4           0.0  https://www.amazon.com/Dell-Latitude-7420-Busi...  "
      ],
      "text/html": [
       "<div>\n",
       "<style scoped>\n",
       "    .dataframe tbody tr th:only-of-type {\n",
       "        vertical-align: middle;\n",
       "    }\n",
       "\n",
       "    .dataframe tbody tr th {\n",
       "        vertical-align: top;\n",
       "    }\n",
       "\n",
       "    .dataframe thead th {\n",
       "        text-align: right;\n",
       "    }\n",
       "</style>\n",
       "<table border=\"1\" class=\"dataframe\">\n",
       "  <thead>\n",
       "    <tr style=\"text-align: right;\">\n",
       "      <th></th>\n",
       "      <th>description</th>\n",
       "      <th>price</th>\n",
       "      <th>rating</th>\n",
       "      <th>review_count</th>\n",
       "      <th>url</th>\n",
       "    </tr>\n",
       "  </thead>\n",
       "  <tbody>\n",
       "    <tr>\n",
       "      <th>0</th>\n",
       "      <td>14.1'' Laptop Screen Extender, 1080P FHD Porta...</td>\n",
       "      <td>179.0</td>\n",
       "      <td>4.50000</td>\n",
       "      <td>0.0</td>\n",
       "      <td>https://www.amazon.com/sspa/click?ie=UTF8&amp;spc=...</td>\n",
       "    </tr>\n",
       "    <tr>\n",
       "      <th>1</th>\n",
       "      <td>13-14 Inch Laptop Case Hard Shell, Protective ...</td>\n",
       "      <td>37.0</td>\n",
       "      <td>4.50000</td>\n",
       "      <td>0.0</td>\n",
       "      <td>https://www.amazon.com/sspa/click?ie=UTF8&amp;spc=...</td>\n",
       "    </tr>\n",
       "    <tr>\n",
       "      <th>2</th>\n",
       "      <td>Dell Latitude 5320 2in1 Gen2 Touchscreen Lapto...</td>\n",
       "      <td>429.0</td>\n",
       "      <td>4.70000</td>\n",
       "      <td>0.0</td>\n",
       "      <td>https://www.amazon.com/Dell-Latitude-Touchscre...</td>\n",
       "    </tr>\n",
       "    <tr>\n",
       "      <th>3</th>\n",
       "      <td>Inspiron 15 15.6\" Laptop (FHD Touchscreen, AMD...</td>\n",
       "      <td>495.0</td>\n",
       "      <td>4.00000</td>\n",
       "      <td>0.0</td>\n",
       "      <td>https://www.amazon.com/Dell-Inspiron-Touchscre...</td>\n",
       "    </tr>\n",
       "    <tr>\n",
       "      <th>4</th>\n",
       "      <td>Latitude 7430 7000 Business Laptop (14\" FHD, I...</td>\n",
       "      <td>844.0</td>\n",
       "      <td>4.29596</td>\n",
       "      <td>0.0</td>\n",
       "      <td>https://www.amazon.com/Dell-Latitude-7420-Busi...</td>\n",
       "    </tr>\n",
       "  </tbody>\n",
       "</table>\n",
       "</div>"
      ]
     },
     "execution_count": 2,
     "metadata": {},
     "output_type": "execute_result"
    }
   ],
   "execution_count": 2
  },
  {
   "metadata": {
    "ExecuteTime": {
     "end_time": "2024-08-16T16:53:59.017340Z",
     "start_time": "2024-08-16T16:53:58.998738Z"
    }
   },
   "cell_type": "code",
   "source": "df.describe()",
   "id": "6f6f60f29c843666",
   "outputs": [
    {
     "data": {
      "text/plain": [
       "            price      rating  review_count\n",
       "count  117.000000  117.000000         117.0\n",
       "mean   122.760684    4.295891           0.0\n",
       "std    171.042576    0.458242           0.0\n",
       "min      9.000000    2.300000           0.0\n",
       "25%     29.000000    4.200000           0.0\n",
       "50%     45.000000    4.300000           0.0\n",
       "75%    139.000000    4.600000           0.0\n",
       "max    844.000000    5.000000           0.0"
      ],
      "text/html": [
       "<div>\n",
       "<style scoped>\n",
       "    .dataframe tbody tr th:only-of-type {\n",
       "        vertical-align: middle;\n",
       "    }\n",
       "\n",
       "    .dataframe tbody tr th {\n",
       "        vertical-align: top;\n",
       "    }\n",
       "\n",
       "    .dataframe thead th {\n",
       "        text-align: right;\n",
       "    }\n",
       "</style>\n",
       "<table border=\"1\" class=\"dataframe\">\n",
       "  <thead>\n",
       "    <tr style=\"text-align: right;\">\n",
       "      <th></th>\n",
       "      <th>price</th>\n",
       "      <th>rating</th>\n",
       "      <th>review_count</th>\n",
       "    </tr>\n",
       "  </thead>\n",
       "  <tbody>\n",
       "    <tr>\n",
       "      <th>count</th>\n",
       "      <td>117.000000</td>\n",
       "      <td>117.000000</td>\n",
       "      <td>117.0</td>\n",
       "    </tr>\n",
       "    <tr>\n",
       "      <th>mean</th>\n",
       "      <td>122.760684</td>\n",
       "      <td>4.295891</td>\n",
       "      <td>0.0</td>\n",
       "    </tr>\n",
       "    <tr>\n",
       "      <th>std</th>\n",
       "      <td>171.042576</td>\n",
       "      <td>0.458242</td>\n",
       "      <td>0.0</td>\n",
       "    </tr>\n",
       "    <tr>\n",
       "      <th>min</th>\n",
       "      <td>9.000000</td>\n",
       "      <td>2.300000</td>\n",
       "      <td>0.0</td>\n",
       "    </tr>\n",
       "    <tr>\n",
       "      <th>25%</th>\n",
       "      <td>29.000000</td>\n",
       "      <td>4.200000</td>\n",
       "      <td>0.0</td>\n",
       "    </tr>\n",
       "    <tr>\n",
       "      <th>50%</th>\n",
       "      <td>45.000000</td>\n",
       "      <td>4.300000</td>\n",
       "      <td>0.0</td>\n",
       "    </tr>\n",
       "    <tr>\n",
       "      <th>75%</th>\n",
       "      <td>139.000000</td>\n",
       "      <td>4.600000</td>\n",
       "      <td>0.0</td>\n",
       "    </tr>\n",
       "    <tr>\n",
       "      <th>max</th>\n",
       "      <td>844.000000</td>\n",
       "      <td>5.000000</td>\n",
       "      <td>0.0</td>\n",
       "    </tr>\n",
       "  </tbody>\n",
       "</table>\n",
       "</div>"
      ]
     },
     "execution_count": 3,
     "metadata": {},
     "output_type": "execute_result"
    }
   ],
   "execution_count": 3
  },
  {
   "metadata": {
    "ExecuteTime": {
     "end_time": "2024-08-16T16:54:06.351753Z",
     "start_time": "2024-08-16T16:54:06.337422Z"
    }
   },
   "cell_type": "code",
   "source": "df.shape",
   "id": "9db8f556442ee006",
   "outputs": [
    {
     "data": {
      "text/plain": [
       "(117, 5)"
      ]
     },
     "execution_count": 4,
     "metadata": {},
     "output_type": "execute_result"
    }
   ],
   "execution_count": 4
  },
  {
   "metadata": {
    "ExecuteTime": {
     "end_time": "2024-08-16T16:54:30.762591Z",
     "start_time": "2024-08-16T16:54:30.736154Z"
    }
   },
   "cell_type": "code",
   "source": "df.info()",
   "id": "93ffcb9a626cb785",
   "outputs": [
    {
     "name": "stdout",
     "output_type": "stream",
     "text": [
      "<class 'pandas.core.frame.DataFrame'>\n",
      "Int64Index: 117 entries, 0 to 120\n",
      "Data columns (total 5 columns):\n",
      " #   Column        Non-Null Count  Dtype  \n",
      "---  ------        --------------  -----  \n",
      " 0   description   117 non-null    object \n",
      " 1   price         117 non-null    float64\n",
      " 2   rating        117 non-null    float64\n",
      " 3   review_count  117 non-null    float64\n",
      " 4   url           117 non-null    object \n",
      "dtypes: float64(3), object(2)\n",
      "memory usage: 5.5+ KB\n"
     ]
    }
   ],
   "execution_count": 5
  },
  {
   "metadata": {
    "ExecuteTime": {
     "end_time": "2024-08-16T16:55:24.654795Z",
     "start_time": "2024-08-16T16:55:24.636454Z"
    }
   },
   "cell_type": "code",
   "source": "df.corr(numeric_only=True)",
   "id": "3655b82e7596f199",
   "outputs": [
    {
     "data": {
      "text/plain": [
       "                 price    rating  review_count\n",
       "price         1.000000 -0.163919           NaN\n",
       "rating       -0.163919  1.000000           NaN\n",
       "review_count       NaN       NaN           NaN"
      ],
      "text/html": [
       "<div>\n",
       "<style scoped>\n",
       "    .dataframe tbody tr th:only-of-type {\n",
       "        vertical-align: middle;\n",
       "    }\n",
       "\n",
       "    .dataframe tbody tr th {\n",
       "        vertical-align: top;\n",
       "    }\n",
       "\n",
       "    .dataframe thead th {\n",
       "        text-align: right;\n",
       "    }\n",
       "</style>\n",
       "<table border=\"1\" class=\"dataframe\">\n",
       "  <thead>\n",
       "    <tr style=\"text-align: right;\">\n",
       "      <th></th>\n",
       "      <th>price</th>\n",
       "      <th>rating</th>\n",
       "      <th>review_count</th>\n",
       "    </tr>\n",
       "  </thead>\n",
       "  <tbody>\n",
       "    <tr>\n",
       "      <th>price</th>\n",
       "      <td>1.000000</td>\n",
       "      <td>-0.163919</td>\n",
       "      <td>NaN</td>\n",
       "    </tr>\n",
       "    <tr>\n",
       "      <th>rating</th>\n",
       "      <td>-0.163919</td>\n",
       "      <td>1.000000</td>\n",
       "      <td>NaN</td>\n",
       "    </tr>\n",
       "    <tr>\n",
       "      <th>review_count</th>\n",
       "      <td>NaN</td>\n",
       "      <td>NaN</td>\n",
       "      <td>NaN</td>\n",
       "    </tr>\n",
       "  </tbody>\n",
       "</table>\n",
       "</div>"
      ]
     },
     "execution_count": 7,
     "metadata": {},
     "output_type": "execute_result"
    }
   ],
   "execution_count": 7
  },
  {
   "metadata": {
    "ExecuteTime": {
     "end_time": "2024-08-16T16:57:41.980020Z",
     "start_time": "2024-08-16T16:57:41.957587Z"
    }
   },
   "cell_type": "code",
   "source": [
    "import pandas as pd\n",
    "from sklearn.model_selection import train_test_split\n",
    "from sklearn.linear_model import LinearRegression\n",
    "from sklearn.metrics import mean_squared_error, r2_score\n",
    "\n",
    "\n",
    "# Splitting the data\n",
    "X = df[['rating', 'review_count']]\n",
    "y = df['price']\n",
    "\n",
    "X_train, X_test, y_train, y_test = train_test_split(X, y, test_size=0.1, random_state=42)\n",
    "\n",
    "# Training the model\n",
    "model = LinearRegression()\n",
    "model.fit(X_train, y_train)\n",
    "\n",
    "# Making predictions and evaluating the model\n",
    "y_pred = model.predict(X_test)\n",
    "mse = mean_squared_error(y_test, y_pred)\n",
    "r2 = r2_score(y_test, y_pred)\n",
    "\n",
    "print(f'Mean Squared Error: {mse}')\n",
    "print(f'R-squared: {r2}')"
   ],
   "id": "16ea327cba530be1",
   "outputs": [
    {
     "name": "stdout",
     "output_type": "stream",
     "text": [
      "Mean Squared Error: 63747.16454941201\n",
      "R-squared: -0.05743628433944736\n"
     ]
    }
   ],
   "execution_count": 10
  },
  {
   "metadata": {},
   "cell_type": "code",
   "outputs": [],
   "execution_count": null,
   "source": "",
   "id": "3fc322188c13ed69"
  }
 ],
 "metadata": {
  "kernelspec": {
   "display_name": "Python 3",
   "language": "python",
   "name": "python3"
  },
  "language_info": {
   "codemirror_mode": {
    "name": "ipython",
    "version": 2
   },
   "file_extension": ".py",
   "mimetype": "text/x-python",
   "name": "python",
   "nbconvert_exporter": "python",
   "pygments_lexer": "ipython2",
   "version": "2.7.6"
  }
 },
 "nbformat": 4,
 "nbformat_minor": 5
}
