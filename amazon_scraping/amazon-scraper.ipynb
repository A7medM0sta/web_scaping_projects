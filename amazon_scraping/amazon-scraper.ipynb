{
 "cells": [
  {
   "cell_type": "markdown",
   "metadata": {},
   "source": [
    "# Amazon price scraper"
   ]
  },
  {
   "cell_type": "code",
   "metadata": {
    "ExecuteTime": {
     "end_time": "2024-08-16T16:27:15.226278Z",
     "start_time": "2024-08-16T16:27:15.001878Z"
    }
   },
   "source": [
    "import csv\n",
    "from bs4 import BeautifulSoup\n",
    "from msedge.selenium_tools import Edge, EdgeOptions\n",
    "from selenium import webdriver\n"
   ],
   "outputs": [],
   "execution_count": 1
  },
  {
   "cell_type": "code",
   "metadata": {
    "ExecuteTime": {
     "end_time": "2024-08-16T16:27:16.069412Z",
     "start_time": "2024-08-16T16:27:16.065517Z"
    }
   },
   "source": [
    "def get_url(search_text):\n",
    "    \"\"\"Generate a url from search text\"\"\"\n",
    "    template = 'https://www.amazon.com/s?k={}&ref=nb_sb_noss_1'\n",
    "    search_term = search_text.replace(' ', '+')\n",
    "    \n",
    "    # add term query to url\n",
    "    url = template.format(search_term)\n",
    "    \n",
    "    # add page query placeholder\n",
    "    url += '&page{}'\n",
    "        \n",
    "    return url"
   ],
   "outputs": [],
   "execution_count": 2
  },
  {
   "cell_type": "code",
   "metadata": {
    "ExecuteTime": {
     "end_time": "2024-08-16T16:27:19.908800Z",
     "start_time": "2024-08-16T16:27:19.904217Z"
    }
   },
   "source": [
    "def extract_record(item):\n",
    "    \"\"\"Extract and return data from a single record\"\"\"\n",
    "    \n",
    "    # description and url\n",
    "    atag = item.h2.a\n",
    "    description = atag.text.strip()\n",
    "    url = 'https://www.amazon.com' + atag.get('href')\n",
    "    try:\n",
    "        # product price\n",
    "        price_parent = item.find('span', 'a-price')\n",
    "        price = price_parent.find('span', 'a-offscreen').text\n",
    "    except AttributeError:\n",
    "        return\n",
    "    \n",
    "    try:\n",
    "        # rating and review count\n",
    "        rating = item.i.text\n",
    "        review_count = item.find('span', {'class': 'a-size-base', 'dir': 'auto'}).text\n",
    "    except AttributeError:\n",
    "        rating = ''\n",
    "        review_count = ''\n",
    "        \n",
    "    result = (description, price, rating, review_count, url)\n",
    "    \n",
    "    return result"
   ],
   "outputs": [],
   "execution_count": 3
  },
  {
   "cell_type": "code",
   "metadata": {
    "ExecuteTime": {
     "end_time": "2024-08-16T16:28:25.479023Z",
     "start_time": "2024-08-16T16:28:25.471704Z"
    }
   },
   "source": [
    "def main(search_term):\n",
    "    \"\"\"Run main program routine\"\"\"\n",
    "    \n",
    "    # startup the webdriver\n",
    "    options = webdriver.ChromeOptions()\n",
    "    options.use_chromium = True\n",
    "    path = \"/Users/ahmedmostafa/Downloads/web_scaping_projects/chromedriver-mac-arm64/chromedriver\"\n",
    "    driver = webdriver.Chrome(executable_path=path, options=options)\n",
    "\n",
    "    # driver = Edge(options=options)\n",
    "    \n",
    "    records = []\n",
    "    url = get_url(search_term)\n",
    "    \n",
    "    for page in range(1, 21):\n",
    "        driver.get(url.format(page))\n",
    "        soup = BeautifulSoup(driver.page_source, 'html.parser')\n",
    "        results = soup.find_all('div', {'data-component-type': 's-search-result'})\n",
    "        for item in results:\n",
    "            record = extract_record(item)\n",
    "            if record:\n",
    "                records.append(record)\n",
    "    \n",
    "    driver.close()\n",
    "    \n",
    "    # save data to csv file\n",
    "    with open('results.csv', 'w', newline='', encoding='utf-8') as f:\n",
    "        writer = csv.writer(f)\n",
    "        writer.writerow(['Description', 'Price', 'Rating', 'ReviewCount', 'Url'])\n",
    "        writer.writerows(records)\n"
   ],
   "outputs": [],
   "execution_count": 4
  },
  {
   "cell_type": "code",
   "metadata": {
    "ExecuteTime": {
     "end_time": "2024-08-16T16:29:24.527908Z",
     "start_time": "2024-08-16T16:28:34.412363Z"
    }
   },
   "source": [
    "# run program\n",
    "# export PATH=$PATH:/Users/ahmedmostafa/Downloads/web_scaping_projects/edgedriver_arm64/msedgedriver.exe\n",
    "main('ultrawide monitor')"
   ],
   "outputs": [],
   "execution_count": 5
  },
  {
   "metadata": {},
   "cell_type": "code",
   "outputs": [],
   "execution_count": null,
   "source": ""
  },
  {
   "cell_type": "code",
   "metadata": {
    "ExecuteTime": {
     "end_time": "2024-08-16T16:35:27.677325Z",
     "start_time": "2024-08-16T16:35:27.671925Z"
    }
   },
   "source": [
    "# options = EdgeOptions()\n",
    "# options.use_chromium = True\n",
    "# driver = Edge(options=options)"
   ],
   "outputs": [],
   "execution_count": 8
  },
  {
   "cell_type": "code",
   "execution_count": 5,
   "metadata": {},
   "outputs": [],
   "source": "driver.get('https://www.amazon.com/GIGABYTE-Radeon-Graphics-128-Bit-GV-R55XTOC-8GD/dp/B082BXG6Z5/ref=sr_1_4?dchild=1&keywords=amd+video+card&qid=1603932104&sr=8-4')"
  },
  {
   "cell_type": "code",
   "metadata": {
    "ExecuteTime": {
     "end_time": "2024-08-16T16:34:13.281520Z",
     "start_time": "2024-08-16T16:34:07.033396Z"
    }
   },
   "source": [
    "from selenium import webdriver\n",
    "from selenium.webdriver.common.by import By\n",
    "import time\n",
    "\n",
    "driver = webdriver.Chrome()\n",
    "\n",
    "driver.get('https://bing.com')\n",
    "\n",
    "element = driver.find_element(By.ID, 'sb_form_q')\n",
    "element.send_keys('WebDriver')\n",
    "element.submit()\n",
    "\n",
    "time.sleep(5)\n",
    "driver.quit()"
   ],
   "outputs": [
    {
     "ename": "WebDriverException",
     "evalue": "Message: Service chromedriver unexpectedly exited. Status code was: -9\n",
     "output_type": "error",
     "traceback": [
      "\u001B[0;31m---------------------------------------------------------------------------\u001B[0m",
      "\u001B[0;31mWebDriverException\u001B[0m                        Traceback (most recent call last)",
      "Cell \u001B[0;32mIn[6], line 5\u001B[0m\n\u001B[1;32m      2\u001B[0m \u001B[38;5;28;01mfrom\u001B[39;00m \u001B[38;5;21;01mselenium\u001B[39;00m\u001B[38;5;21;01m.\u001B[39;00m\u001B[38;5;21;01mwebdriver\u001B[39;00m\u001B[38;5;21;01m.\u001B[39;00m\u001B[38;5;21;01mcommon\u001B[39;00m\u001B[38;5;21;01m.\u001B[39;00m\u001B[38;5;21;01mby\u001B[39;00m \u001B[38;5;28;01mimport\u001B[39;00m By\n\u001B[1;32m      3\u001B[0m \u001B[38;5;28;01mimport\u001B[39;00m \u001B[38;5;21;01mtime\u001B[39;00m\n\u001B[0;32m----> 5\u001B[0m driver \u001B[38;5;241m=\u001B[39m \u001B[43mwebdriver\u001B[49m\u001B[38;5;241;43m.\u001B[39;49m\u001B[43mChrome\u001B[49m\u001B[43m(\u001B[49m\u001B[43m)\u001B[49m\n\u001B[1;32m      7\u001B[0m driver\u001B[38;5;241m.\u001B[39mget(\u001B[38;5;124m'\u001B[39m\u001B[38;5;124mhttps://bing.com\u001B[39m\u001B[38;5;124m'\u001B[39m)\n\u001B[1;32m      9\u001B[0m element \u001B[38;5;241m=\u001B[39m driver\u001B[38;5;241m.\u001B[39mfind_element(By\u001B[38;5;241m.\u001B[39mID, \u001B[38;5;124m'\u001B[39m\u001B[38;5;124msb_form_q\u001B[39m\u001B[38;5;124m'\u001B[39m)\n",
      "File \u001B[0;32m~/miniconda3/envs/torch/lib/python3.9/site-packages/selenium/webdriver/chrome/webdriver.py:73\u001B[0m, in \u001B[0;36mWebDriver.__init__\u001B[0;34m(self, executable_path, port, options, service_args, desired_capabilities, service_log_path, chrome_options, keep_alive)\u001B[0m\n\u001B[1;32m     66\u001B[0m         desired_capabilities\u001B[38;5;241m.\u001B[39mupdate(options\u001B[38;5;241m.\u001B[39mto_capabilities())\n\u001B[1;32m     68\u001B[0m \u001B[38;5;28mself\u001B[39m\u001B[38;5;241m.\u001B[39mservice \u001B[38;5;241m=\u001B[39m Service(\n\u001B[1;32m     69\u001B[0m     executable_path,\n\u001B[1;32m     70\u001B[0m     port\u001B[38;5;241m=\u001B[39mport,\n\u001B[1;32m     71\u001B[0m     service_args\u001B[38;5;241m=\u001B[39mservice_args,\n\u001B[1;32m     72\u001B[0m     log_path\u001B[38;5;241m=\u001B[39mservice_log_path)\n\u001B[0;32m---> 73\u001B[0m \u001B[38;5;28;43mself\u001B[39;49m\u001B[38;5;241;43m.\u001B[39;49m\u001B[43mservice\u001B[49m\u001B[38;5;241;43m.\u001B[39;49m\u001B[43mstart\u001B[49m\u001B[43m(\u001B[49m\u001B[43m)\u001B[49m\n\u001B[1;32m     75\u001B[0m \u001B[38;5;28;01mtry\u001B[39;00m:\n\u001B[1;32m     76\u001B[0m     RemoteWebDriver\u001B[38;5;241m.\u001B[39m\u001B[38;5;21m__init__\u001B[39m(\n\u001B[1;32m     77\u001B[0m         \u001B[38;5;28mself\u001B[39m,\n\u001B[1;32m     78\u001B[0m         command_executor\u001B[38;5;241m=\u001B[39mChromeRemoteConnection(\n\u001B[1;32m     79\u001B[0m             remote_server_addr\u001B[38;5;241m=\u001B[39m\u001B[38;5;28mself\u001B[39m\u001B[38;5;241m.\u001B[39mservice\u001B[38;5;241m.\u001B[39mservice_url,\n\u001B[1;32m     80\u001B[0m             keep_alive\u001B[38;5;241m=\u001B[39mkeep_alive),\n\u001B[1;32m     81\u001B[0m         desired_capabilities\u001B[38;5;241m=\u001B[39mdesired_capabilities)\n",
      "File \u001B[0;32m~/miniconda3/envs/torch/lib/python3.9/site-packages/selenium/webdriver/common/service.py:98\u001B[0m, in \u001B[0;36mService.start\u001B[0;34m(self)\u001B[0m\n\u001B[1;32m     96\u001B[0m count \u001B[38;5;241m=\u001B[39m \u001B[38;5;241m0\u001B[39m\n\u001B[1;32m     97\u001B[0m \u001B[38;5;28;01mwhile\u001B[39;00m \u001B[38;5;28;01mTrue\u001B[39;00m:\n\u001B[0;32m---> 98\u001B[0m     \u001B[38;5;28;43mself\u001B[39;49m\u001B[38;5;241;43m.\u001B[39;49m\u001B[43massert_process_still_running\u001B[49m\u001B[43m(\u001B[49m\u001B[43m)\u001B[49m\n\u001B[1;32m     99\u001B[0m     \u001B[38;5;28;01mif\u001B[39;00m \u001B[38;5;28mself\u001B[39m\u001B[38;5;241m.\u001B[39mis_connectable():\n\u001B[1;32m    100\u001B[0m         \u001B[38;5;28;01mbreak\u001B[39;00m\n",
      "File \u001B[0;32m~/miniconda3/envs/torch/lib/python3.9/site-packages/selenium/webdriver/common/service.py:109\u001B[0m, in \u001B[0;36mService.assert_process_still_running\u001B[0;34m(self)\u001B[0m\n\u001B[1;32m    107\u001B[0m return_code \u001B[38;5;241m=\u001B[39m \u001B[38;5;28mself\u001B[39m\u001B[38;5;241m.\u001B[39mprocess\u001B[38;5;241m.\u001B[39mpoll()\n\u001B[1;32m    108\u001B[0m \u001B[38;5;28;01mif\u001B[39;00m return_code \u001B[38;5;129;01mis\u001B[39;00m \u001B[38;5;129;01mnot\u001B[39;00m \u001B[38;5;28;01mNone\u001B[39;00m:\n\u001B[0;32m--> 109\u001B[0m     \u001B[38;5;28;01mraise\u001B[39;00m WebDriverException(\n\u001B[1;32m    110\u001B[0m         \u001B[38;5;124m'\u001B[39m\u001B[38;5;124mService \u001B[39m\u001B[38;5;132;01m%s\u001B[39;00m\u001B[38;5;124m unexpectedly exited. Status code was: \u001B[39m\u001B[38;5;132;01m%s\u001B[39;00m\u001B[38;5;124m'\u001B[39m\n\u001B[1;32m    111\u001B[0m         \u001B[38;5;241m%\u001B[39m (\u001B[38;5;28mself\u001B[39m\u001B[38;5;241m.\u001B[39mpath, return_code)\n\u001B[1;32m    112\u001B[0m     )\n",
      "\u001B[0;31mWebDriverException\u001B[0m: Message: Service chromedriver unexpectedly exited. Status code was: -9\n"
     ]
    }
   ],
   "execution_count": 6
  },
  {
   "cell_type": "code",
   "execution_count": 10,
   "metadata": {},
   "outputs": [],
   "source": []
  },
  {
   "cell_type": "code",
   "metadata": {
    "ExecuteTime": {
     "end_time": "2024-08-16T16:35:15.142271Z",
     "start_time": "2024-08-16T16:35:15.100463Z"
    }
   },
   "source": [
    "# get the buy box table and rows\n",
    "table = driver.find_element_by_class_name('buybox-tabular-container')\n",
    "table_rows = table.find_elements_by_tag_name('tr')\n",
    "\n",
    "# ships from\n",
    "ships_from = table_rows[0].find_elements_by_tag_name('td')[1].text\n",
    "\n",
    "# sold by\n",
    "sold_by = table_rows[1].find_elements_by_tag_name('td')[1].text"
   ],
   "outputs": [
    {
     "ename": "NameError",
     "evalue": "name 'driver' is not defined",
     "output_type": "error",
     "traceback": [
      "\u001B[0;31m---------------------------------------------------------------------------\u001B[0m",
      "\u001B[0;31mNameError\u001B[0m                                 Traceback (most recent call last)",
      "Cell \u001B[0;32mIn[7], line 2\u001B[0m\n\u001B[1;32m      1\u001B[0m \u001B[38;5;66;03m# get the buy box table and rows\u001B[39;00m\n\u001B[0;32m----> 2\u001B[0m table \u001B[38;5;241m=\u001B[39m \u001B[43mdriver\u001B[49m\u001B[38;5;241m.\u001B[39mfind_element_by_class_name(\u001B[38;5;124m'\u001B[39m\u001B[38;5;124mbuybox-tabular-container\u001B[39m\u001B[38;5;124m'\u001B[39m)\n\u001B[1;32m      3\u001B[0m table_rows \u001B[38;5;241m=\u001B[39m table\u001B[38;5;241m.\u001B[39mfind_elements_by_tag_name(\u001B[38;5;124m'\u001B[39m\u001B[38;5;124mtr\u001B[39m\u001B[38;5;124m'\u001B[39m)\n\u001B[1;32m      5\u001B[0m \u001B[38;5;66;03m# ships from\u001B[39;00m\n",
      "\u001B[0;31mNameError\u001B[0m: name 'driver' is not defined"
     ]
    }
   ],
   "execution_count": 7
  },
  {
   "cell_type": "code",
   "execution_count": 19,
   "metadata": {},
   "outputs": [
    {
     "data": {
      "text/plain": [
       "'Amazon.com'"
      ]
     },
     "execution_count": 19,
     "metadata": {},
     "output_type": "execute_result"
    }
   ],
   "source": []
  },
  {
   "metadata": {
    "ExecuteTime": {
     "end_time": "2024-08-16T16:37:51.647820Z",
     "start_time": "2024-08-16T16:37:50.301470Z"
    }
   },
   "cell_type": "code",
   "source": "",
   "outputs": [
    {
     "data": {
      "text/plain": [
       "                                         description price  \\\n",
       "0  14.1'' Laptop Screen Extender, 1080P FHD Porta...   179   \n",
       "1  13-14 Inch Laptop Case Hard Shell, Protective ...    37   \n",
       "2  Dell Latitude 5320 2in1 Gen2 Touchscreen Lapto...   429   \n",
       "3  Inspiron 15 15.6\" Laptop (FHD Touchscreen, AMD...   495   \n",
       "4  Latitude 7430 7000 Business Laptop (14\" FHD, I...   844   \n",
       "\n",
       "               rating  review_count  \\\n",
       "0  4.5 out of 5 stars           NaN   \n",
       "1  4.5 out of 5 stars           NaN   \n",
       "2  4.7 out of 5 stars           NaN   \n",
       "3  4.0 out of 5 stars           NaN   \n",
       "4                 NaN           NaN   \n",
       "\n",
       "                                                 url  \n",
       "0  https://www.amazon.com/sspa/click?ie=UTF8&spc=...  \n",
       "1  https://www.amazon.com/sspa/click?ie=UTF8&spc=...  \n",
       "2  https://www.amazon.com/Dell-Latitude-Touchscre...  \n",
       "3  https://www.amazon.com/Dell-Inspiron-Touchscre...  \n",
       "4  https://www.amazon.com/Dell-Latitude-7420-Busi...  "
      ],
      "text/html": [
       "<div>\n",
       "<style scoped>\n",
       "    .dataframe tbody tr th:only-of-type {\n",
       "        vertical-align: middle;\n",
       "    }\n",
       "\n",
       "    .dataframe tbody tr th {\n",
       "        vertical-align: top;\n",
       "    }\n",
       "\n",
       "    .dataframe thead th {\n",
       "        text-align: right;\n",
       "    }\n",
       "</style>\n",
       "<table border=\"1\" class=\"dataframe\">\n",
       "  <thead>\n",
       "    <tr style=\"text-align: right;\">\n",
       "      <th></th>\n",
       "      <th>description</th>\n",
       "      <th>price</th>\n",
       "      <th>rating</th>\n",
       "      <th>review_count</th>\n",
       "      <th>url</th>\n",
       "    </tr>\n",
       "  </thead>\n",
       "  <tbody>\n",
       "    <tr>\n",
       "      <th>0</th>\n",
       "      <td>14.1'' Laptop Screen Extender, 1080P FHD Porta...</td>\n",
       "      <td>179</td>\n",
       "      <td>4.5 out of 5 stars</td>\n",
       "      <td>NaN</td>\n",
       "      <td>https://www.amazon.com/sspa/click?ie=UTF8&amp;spc=...</td>\n",
       "    </tr>\n",
       "    <tr>\n",
       "      <th>1</th>\n",
       "      <td>13-14 Inch Laptop Case Hard Shell, Protective ...</td>\n",
       "      <td>37</td>\n",
       "      <td>4.5 out of 5 stars</td>\n",
       "      <td>NaN</td>\n",
       "      <td>https://www.amazon.com/sspa/click?ie=UTF8&amp;spc=...</td>\n",
       "    </tr>\n",
       "    <tr>\n",
       "      <th>2</th>\n",
       "      <td>Dell Latitude 5320 2in1 Gen2 Touchscreen Lapto...</td>\n",
       "      <td>429</td>\n",
       "      <td>4.7 out of 5 stars</td>\n",
       "      <td>NaN</td>\n",
       "      <td>https://www.amazon.com/Dell-Latitude-Touchscre...</td>\n",
       "    </tr>\n",
       "    <tr>\n",
       "      <th>3</th>\n",
       "      <td>Inspiron 15 15.6\" Laptop (FHD Touchscreen, AMD...</td>\n",
       "      <td>495</td>\n",
       "      <td>4.0 out of 5 stars</td>\n",
       "      <td>NaN</td>\n",
       "      <td>https://www.amazon.com/Dell-Inspiron-Touchscre...</td>\n",
       "    </tr>\n",
       "    <tr>\n",
       "      <th>4</th>\n",
       "      <td>Latitude 7430 7000 Business Laptop (14\" FHD, I...</td>\n",
       "      <td>844</td>\n",
       "      <td>NaN</td>\n",
       "      <td>NaN</td>\n",
       "      <td>https://www.amazon.com/Dell-Latitude-7420-Busi...</td>\n",
       "    </tr>\n",
       "  </tbody>\n",
       "</table>\n",
       "</div>"
      ]
     },
     "execution_count": 9,
     "metadata": {},
     "output_type": "execute_result"
    }
   ],
   "execution_count": 9
  },
  {
   "metadata": {
    "ExecuteTime": {
     "end_time": "2024-08-16T16:38:25.852214Z",
     "start_time": "2024-08-16T16:38:25.833382Z"
    }
   },
   "cell_type": "code",
   "source": "",
   "outputs": [
    {
     "data": {
      "text/plain": [
       "                                         description  price   rating  \\\n",
       "0  14.1'' Laptop Screen Extender, 1080P FHD Porta...  179.0  4.50000   \n",
       "1  13-14 Inch Laptop Case Hard Shell, Protective ...   37.0  4.50000   \n",
       "2  Dell Latitude 5320 2in1 Gen2 Touchscreen Lapto...  429.0  4.70000   \n",
       "3  Inspiron 15 15.6\" Laptop (FHD Touchscreen, AMD...  495.0  4.00000   \n",
       "4  Latitude 7430 7000 Business Laptop (14\" FHD, I...  844.0  4.29596   \n",
       "\n",
       "   review_count                                                url  \n",
       "0           0.0  https://www.amazon.com/sspa/click?ie=UTF8&spc=...  \n",
       "1           0.0  https://www.amazon.com/sspa/click?ie=UTF8&spc=...  \n",
       "2           0.0  https://www.amazon.com/Dell-Latitude-Touchscre...  \n",
       "3           0.0  https://www.amazon.com/Dell-Inspiron-Touchscre...  \n",
       "4           0.0  https://www.amazon.com/Dell-Latitude-7420-Busi...  "
      ],
      "text/html": [
       "<div>\n",
       "<style scoped>\n",
       "    .dataframe tbody tr th:only-of-type {\n",
       "        vertical-align: middle;\n",
       "    }\n",
       "\n",
       "    .dataframe tbody tr th {\n",
       "        vertical-align: top;\n",
       "    }\n",
       "\n",
       "    .dataframe thead th {\n",
       "        text-align: right;\n",
       "    }\n",
       "</style>\n",
       "<table border=\"1\" class=\"dataframe\">\n",
       "  <thead>\n",
       "    <tr style=\"text-align: right;\">\n",
       "      <th></th>\n",
       "      <th>description</th>\n",
       "      <th>price</th>\n",
       "      <th>rating</th>\n",
       "      <th>review_count</th>\n",
       "      <th>url</th>\n",
       "    </tr>\n",
       "  </thead>\n",
       "  <tbody>\n",
       "    <tr>\n",
       "      <th>0</th>\n",
       "      <td>14.1'' Laptop Screen Extender, 1080P FHD Porta...</td>\n",
       "      <td>179.0</td>\n",
       "      <td>4.50000</td>\n",
       "      <td>0.0</td>\n",
       "      <td>https://www.amazon.com/sspa/click?ie=UTF8&amp;spc=...</td>\n",
       "    </tr>\n",
       "    <tr>\n",
       "      <th>1</th>\n",
       "      <td>13-14 Inch Laptop Case Hard Shell, Protective ...</td>\n",
       "      <td>37.0</td>\n",
       "      <td>4.50000</td>\n",
       "      <td>0.0</td>\n",
       "      <td>https://www.amazon.com/sspa/click?ie=UTF8&amp;spc=...</td>\n",
       "    </tr>\n",
       "    <tr>\n",
       "      <th>2</th>\n",
       "      <td>Dell Latitude 5320 2in1 Gen2 Touchscreen Lapto...</td>\n",
       "      <td>429.0</td>\n",
       "      <td>4.70000</td>\n",
       "      <td>0.0</td>\n",
       "      <td>https://www.amazon.com/Dell-Latitude-Touchscre...</td>\n",
       "    </tr>\n",
       "    <tr>\n",
       "      <th>3</th>\n",
       "      <td>Inspiron 15 15.6\" Laptop (FHD Touchscreen, AMD...</td>\n",
       "      <td>495.0</td>\n",
       "      <td>4.00000</td>\n",
       "      <td>0.0</td>\n",
       "      <td>https://www.amazon.com/Dell-Inspiron-Touchscre...</td>\n",
       "    </tr>\n",
       "    <tr>\n",
       "      <th>4</th>\n",
       "      <td>Latitude 7430 7000 Business Laptop (14\" FHD, I...</td>\n",
       "      <td>844.0</td>\n",
       "      <td>4.29596</td>\n",
       "      <td>0.0</td>\n",
       "      <td>https://www.amazon.com/Dell-Latitude-7420-Busi...</td>\n",
       "    </tr>\n",
       "  </tbody>\n",
       "</table>\n",
       "</div>"
      ]
     },
     "execution_count": 10,
     "metadata": {},
     "output_type": "execute_result"
    }
   ],
   "execution_count": 10
  },
  {
   "metadata": {
    "ExecuteTime": {
     "end_time": "2024-08-16T16:52:48.210090Z",
     "start_time": "2024-08-16T16:52:48.135108Z"
    }
   },
   "cell_type": "code",
   "source": "",
   "outputs": [
    {
     "data": {
      "text/plain": [
       "            price      rating  review_count\n",
       "count  117.000000  117.000000         117.0\n",
       "mean   122.760684    4.295891           0.0\n",
       "std    171.042576    0.458242           0.0\n",
       "min      9.000000    2.300000           0.0\n",
       "25%     29.000000    4.200000           0.0\n",
       "50%     45.000000    4.300000           0.0\n",
       "75%    139.000000    4.600000           0.0\n",
       "max    844.000000    5.000000           0.0"
      ],
      "text/html": [
       "<div>\n",
       "<style scoped>\n",
       "    .dataframe tbody tr th:only-of-type {\n",
       "        vertical-align: middle;\n",
       "    }\n",
       "\n",
       "    .dataframe tbody tr th {\n",
       "        vertical-align: top;\n",
       "    }\n",
       "\n",
       "    .dataframe thead th {\n",
       "        text-align: right;\n",
       "    }\n",
       "</style>\n",
       "<table border=\"1\" class=\"dataframe\">\n",
       "  <thead>\n",
       "    <tr style=\"text-align: right;\">\n",
       "      <th></th>\n",
       "      <th>price</th>\n",
       "      <th>rating</th>\n",
       "      <th>review_count</th>\n",
       "    </tr>\n",
       "  </thead>\n",
       "  <tbody>\n",
       "    <tr>\n",
       "      <th>count</th>\n",
       "      <td>117.000000</td>\n",
       "      <td>117.000000</td>\n",
       "      <td>117.0</td>\n",
       "    </tr>\n",
       "    <tr>\n",
       "      <th>mean</th>\n",
       "      <td>122.760684</td>\n",
       "      <td>4.295891</td>\n",
       "      <td>0.0</td>\n",
       "    </tr>\n",
       "    <tr>\n",
       "      <th>std</th>\n",
       "      <td>171.042576</td>\n",
       "      <td>0.458242</td>\n",
       "      <td>0.0</td>\n",
       "    </tr>\n",
       "    <tr>\n",
       "      <th>min</th>\n",
       "      <td>9.000000</td>\n",
       "      <td>2.300000</td>\n",
       "      <td>0.0</td>\n",
       "    </tr>\n",
       "    <tr>\n",
       "      <th>25%</th>\n",
       "      <td>29.000000</td>\n",
       "      <td>4.200000</td>\n",
       "      <td>0.0</td>\n",
       "    </tr>\n",
       "    <tr>\n",
       "      <th>50%</th>\n",
       "      <td>45.000000</td>\n",
       "      <td>4.300000</td>\n",
       "      <td>0.0</td>\n",
       "    </tr>\n",
       "    <tr>\n",
       "      <th>75%</th>\n",
       "      <td>139.000000</td>\n",
       "      <td>4.600000</td>\n",
       "      <td>0.0</td>\n",
       "    </tr>\n",
       "    <tr>\n",
       "      <th>max</th>\n",
       "      <td>844.000000</td>\n",
       "      <td>5.000000</td>\n",
       "      <td>0.0</td>\n",
       "    </tr>\n",
       "  </tbody>\n",
       "</table>\n",
       "</div>"
      ]
     },
     "execution_count": 11,
     "metadata": {},
     "output_type": "execute_result"
    }
   ],
   "execution_count": 11
  },
  {
   "metadata": {},
   "cell_type": "code",
   "outputs": [],
   "execution_count": null,
   "source": ""
  }
 ],
 "metadata": {
  "kernelspec": {
   "display_name": "Python 3",
   "language": "python",
   "name": "python3"
  },
  "language_info": {
   "codemirror_mode": {
    "name": "ipython",
    "version": 3
   },
   "file_extension": ".py",
   "mimetype": "text/x-python",
   "name": "python",
   "nbconvert_exporter": "python",
   "pygments_lexer": "ipython3",
   "version": "3.8.3"
  }
 },
 "nbformat": 4,
 "nbformat_minor": 4
}
