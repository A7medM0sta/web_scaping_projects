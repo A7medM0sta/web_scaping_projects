{
 "cells": [
  {
   "cell_type": "markdown",
   "metadata": {},
   "source": [
    "# Salary.com Data Scraper"
   ]
  },
  {
   "cell_type": "markdown",
   "metadata": {},
   "source": [
    "extract salary information for specific job titles in the 317 largest us cities"
   ]
  },
  {
   "cell_type": "code",
   "metadata": {
    "ExecuteTime": {
     "end_time": "2024-08-17T07:55:43.821462Z",
     "start_time": "2024-08-17T07:55:43.818694Z"
    }
   },
   "source": [
    "import csv\n",
    "from time import sleep\n",
    "import json\n",
    "import requests\n",
    "from bs4 import BeautifulSoup\n",
    "import re"
   ],
   "outputs": [],
   "execution_count": 19
  },
  {
   "cell_type": "markdown",
   "metadata": {},
   "source": [
    "## Identify scraping methodology\n",
    "\n",
    "- Navigate to https://www.salary.com/\n",
    "- Click on the \"For You\" option, then enter a position into the search box\n",
    "- In the list of result descriptions, scroll down and click on the title and description that best matches what you're looking for\n",
    "\n",
    "**URL Pattern**  \n",
    "What you should see now is a curve representing the distribution of salaries, with markers at the quintiles. \n",
    "- Click the \"view as table\" link to see the data in table form.. this is the data that we want to scrape\n",
    "- Take a look at the url to see how it's structured. This is the pattern that we want to imitate with our request\n",
    "\n",
    "The job title is at the end of the url with the word salary appended to the end  \n",
    "\n",
    "Now, go to the top and click \"Change City\" and then either type in your city, choose one of the suggested cities.  You can see how the city name is then appended to the end, and the format which it needs to be in.  Let's use this information to create a template in our code. We'll use curly braces instead of the search criteria so that we can change up the url as needed to modify the search."
   ]
  },
  {
   "cell_type": "code",
   "metadata": {
    "ExecuteTime": {
     "end_time": "2024-08-17T07:55:44.931999Z",
     "start_time": "2024-08-17T07:55:44.929818Z"
    }
   },
   "source": [
    "template = 'https://www.salary.com/research/salary/alternate/{}-salary/{}'"
   ],
   "outputs": [],
   "execution_count": 20
  },
  {
   "cell_type": "markdown",
   "metadata": {},
   "source": [
    "Now, use the template you just created to create a url. Then send a get request to extract the raw html from the website."
   ]
  },
  {
   "cell_type": "code",
   "metadata": {
    "ExecuteTime": {
     "end_time": "2024-08-17T07:55:47.414450Z",
     "start_time": "2024-08-17T07:55:45.921235Z"
    }
   },
   "source": [
    "# build the url based on search criteria\n",
    "position = 'senior-accountant'\n",
    "city = 'charlotte-nc'\n",
    "\n",
    "url = template.format(position, city)\n",
    "\n",
    "# request the raw html\n",
    "response = requests.get(url)"
   ],
   "outputs": [],
   "execution_count": 21
  },
  {
   "cell_type": "markdown",
   "metadata": {},
   "source": [
    "### Inspect the data extraction options\n",
    "Now that we have the raw html, let's take a look at it to see how we might be able to extract the data. The first thing I always look at when I'm trying to scrape data is, can I access it directly through some backend api that returns data in json format? The way I look for this is by looking through the network activity. Typically, this will show up if you filter to XHR. And if you look at the response, you will see clearly formatted json data. Unfortuanately, that is not the case with this project, but you can see something like this in the [Yahoo! Finance](https://github.com/israel-dryer/Yahoo-Finance-Scraper) project where I extract historical stock data using a hidden api.\n",
    "\n",
    "### json formatted data\n",
    "The good news, is that we have something almost as good. The next thing I usually look for is json formatted data that is embedded in the html data. So, right-click on the web-page and then click \"view page source\". Then, if you scroll down about mid-way, you'll notice some clearly formatted json data, that we can extract from the page, formatted as a python dictionary. This is fantastic, because it make the work SO MUCH EASIER! Not only do we have all of the quintiles broken out, but we also have the locality data and a nice description of the job title.  \n",
    "\n",
    "### Extracting the script\n",
    "You can see that the data is embedded in a *script* tag. However, there are multiple scripts here. The one that we want has a specific type \"application/ld+json\". That will narrow it a bit, but it won't be specific enough. If you look at these two scripts, you'll notice that they have an \"@Type\" key. One is called occupation, and the other is called \"Organization\". This corresponds to the comments above as well. What we can do to specific this exact script is to add a simple regular expression pattern that looks for the word \"Organization\"."
   ]
  },
  {
   "cell_type": "code",
   "metadata": {
    "ExecuteTime": {
     "end_time": "2024-08-17T07:55:47.534903Z",
     "start_time": "2024-08-17T07:55:47.495534Z"
    }
   },
   "source": [
    "soup = BeautifulSoup(response.text, 'html.parser')"
   ],
   "outputs": [],
   "execution_count": 22
  },
  {
   "cell_type": "code",
   "metadata": {
    "ExecuteTime": {
     "end_time": "2024-08-17T07:59:20.126615Z",
     "start_time": "2024-08-17T07:59:20.122805Z"
    }
   },
   "source": [
    "pattern = re.compile(r'Occupation')\n",
    "script = soup.find('script', {'type': 'application/ld+json'}, string=pattern)"
   ],
   "outputs": [],
   "execution_count": 35
  },
  {
   "cell_type": "code",
   "metadata": {
    "ExecuteTime": {
     "end_time": "2024-08-17T07:59:21.469977Z",
     "start_time": "2024-08-17T07:59:21.465848Z"
    }
   },
   "source": [
    "script"
   ],
   "outputs": [
    {
     "data": {
      "text/plain": [
       "<script type=\"application/ld+json\">\n",
       " {\n",
       "    \"@context\": \"http://schema.org\",\n",
       "    \"@type\": \"Occupation\",\n",
       "    \"name\": \"Senior Accountant\",\n",
       "    \"mainEntityOfPage\": {\n",
       "        \"@type\": \"WebPage\",\n",
       "        \"lastReviewed\": \"2024-07-29T00:00:00Z\"\n",
       "    },\n",
       "    \"description\": \"The Senior Accountant ensures the accuracy of entries to ledger accounts and reconciles subsidiary ledger accounts to the general ledger. Maintains financial records and ensures that financial transactions are properly recorded. Being a Senior Accountant analyzes current costs, revenues, financial commitments, and obligations incurred to predict future revenues and expenses. Prepares complex balance sheets, profit and loss statements and other financial reports. In addition, Senior Accountant may supervise and guide lower-level accountants. Requires a bachelor&#39;s degree. May require CPA certification. Typically reports to a supervisor or manager. Being a Senior Accountant contributes to moderately complex aspects of a project. Work is generally independent and collaborative in nature. Working as a Senior Accountant typically requires 4 to 7 years of related experience.\",\n",
       "    \"estimatedSalary\": [{\n",
       "    \"@type\": \"MonetaryAmountDistribution\",\n",
       "    \"name\": \"base\",\n",
       "    \"currency\": \"USD\",\n",
       "    \"duration\" : \"P1Y\",\n",
       "    \"percentile10\": \"72233\",\n",
       "    \"percentile25\": \"79790\",\n",
       "    \"median\": \"88090\",\n",
       "    \"percentile75\": \"97590\",\n",
       "    \"percentile90\": \"106239\"\n",
       "    },\n",
       "    {\n",
       "    \"@type\": \"MonetaryAmountDistribution\",\n",
       "    \"name\": \"total compensation\",\n",
       "    \"currency\": \"USD\",\n",
       "    \"duration\" : \"P1Y\",\n",
       "    \"percentile10\": \"73241\",\n",
       "    \"percentile25\": \"81890\",\n",
       "    \"median\": \"91390\",\n",
       "    \"percentile75\": \"102690\",\n",
       "    \"percentile90\": \"112978\"\n",
       "    }]\n",
       "        \n",
       "        ,\n",
       "        \"occupationLocation\": [{\n",
       "            \"@type\": \"City\",\n",
       "            \"name\": \"Charlotte, NC\"\n",
       "        }]\n",
       "        \n",
       "}\n",
       "</script>"
      ]
     },
     "execution_count": 36,
     "metadata": {},
     "output_type": "execute_result"
    }
   ],
   "execution_count": 36
  },
  {
   "cell_type": "markdown",
   "metadata": {},
   "source": [
    "### Identify the relevant data\n",
    "If you look closely, you'll notice that there are two sets of compensation statistics, one is the base salary, and the other is total compensation. The total compensation will include bonuses and other benefits. For this example, I'm just going to grab the base salary.  \n",
    "\n",
    "### Extract the json data\n",
    "One would think that you could use the `text` attribute to get the text inside this script tag, however... this isn't actually text. So, what you'll need to use instead is the `contents` attribute. This will return a list of the contents. There will only be one item in the list, so you'll need to index to the first item."
   ]
  },
  {
   "cell_type": "code",
   "metadata": {
    "ExecuteTime": {
     "end_time": "2024-08-17T07:59:22.517536Z",
     "start_time": "2024-08-17T07:59:22.515451Z"
    }
   },
   "source": [
    "json_raw = script.contents[0]"
   ],
   "outputs": [],
   "execution_count": 37
  },
  {
   "cell_type": "markdown",
   "metadata": {},
   "source": [
    "### Convert the json data\n",
    "Now that we have a raw json string, we need to convert it to a python dictionary. We'll do this by using the `loads` function in the `json` library."
   ]
  },
  {
   "cell_type": "code",
   "metadata": {
    "ExecuteTime": {
     "end_time": "2024-08-17T07:59:23.505548Z",
     "start_time": "2024-08-17T07:59:23.502929Z"
    }
   },
   "source": [
    "json_data = json.loads(json_raw)"
   ],
   "outputs": [],
   "execution_count": 38
  },
  {
   "cell_type": "code",
   "metadata": {
    "ExecuteTime": {
     "end_time": "2024-08-17T07:59:23.993210Z",
     "start_time": "2024-08-17T07:59:23.988717Z"
    }
   },
   "source": [
    "json_data"
   ],
   "outputs": [
    {
     "data": {
      "text/plain": [
       "{'@context': 'http://schema.org',\n",
       " '@type': 'Occupation',\n",
       " 'name': 'Senior Accountant',\n",
       " 'mainEntityOfPage': {'@type': 'WebPage',\n",
       "  'lastReviewed': '2024-07-29T00:00:00Z'},\n",
       " 'description': 'The Senior Accountant ensures the accuracy of entries to ledger accounts and reconciles subsidiary ledger accounts to the general ledger. Maintains financial records and ensures that financial transactions are properly recorded. Being a Senior Accountant analyzes current costs, revenues, financial commitments, and obligations incurred to predict future revenues and expenses. Prepares complex balance sheets, profit and loss statements and other financial reports. In addition, Senior Accountant may supervise and guide lower-level accountants. Requires a bachelor&#39;s degree. May require CPA certification. Typically reports to a supervisor or manager. Being a Senior Accountant contributes to moderately complex aspects of a project. Work is generally independent and collaborative in nature. Working as a Senior Accountant typically requires 4 to 7 years of related experience.',\n",
       " 'estimatedSalary': [{'@type': 'MonetaryAmountDistribution',\n",
       "   'name': 'base',\n",
       "   'currency': 'USD',\n",
       "   'duration': 'P1Y',\n",
       "   'percentile10': '72233',\n",
       "   'percentile25': '79790',\n",
       "   'median': '88090',\n",
       "   'percentile75': '97590',\n",
       "   'percentile90': '106239'},\n",
       "  {'@type': 'MonetaryAmountDistribution',\n",
       "   'name': 'total compensation',\n",
       "   'currency': 'USD',\n",
       "   'duration': 'P1Y',\n",
       "   'percentile10': '73241',\n",
       "   'percentile25': '81890',\n",
       "   'median': '91390',\n",
       "   'percentile75': '102690',\n",
       "   'percentile90': '112978'}],\n",
       " 'occupationLocation': [{'@type': 'City', 'name': 'Charlotte, NC'}]}"
      ]
     },
     "execution_count": 39,
     "metadata": {},
     "output_type": "execute_result"
    }
   ],
   "execution_count": 39
  },
  {
   "cell_type": "markdown",
   "metadata": {},
   "source": [
    "### Extracting the data\n",
    "Now that you've got a python dictionary, you can index as you would a normal dictionary. So, let's grab the job title, the description, location, and the base compensation statistics."
   ]
  },
  {
   "cell_type": "code",
   "metadata": {
    "ExecuteTime": {
     "end_time": "2024-08-17T07:59:25.093793Z",
     "start_time": "2024-08-17T07:59:25.090055Z"
    }
   },
   "source": [
    "job_title = json_data['name']\n",
    "location = json_data['occupationLocation'][0]['name']\n",
    "description = json_data['description']\n",
    "\n",
    "ntile_10 = json_data['estimatedSalary'][0]['percentile10']\n",
    "ntile_25 = json_data['estimatedSalary'][0]['percentile25']\n",
    "ntile_50 = json_data['estimatedSalary'][0]['median']\n",
    "ntile_75 = json_data['estimatedSalary'][0]['percentile75']\n",
    "ntile_90 = json_data['estimatedSalary'][0]['percentile90']\n",
    "\n",
    "salary_data = (job_title, location, description, ntile_10, ntile_25, ntile_50, ntile_75, ntile_90)\n",
    "print(salary_data)"
   ],
   "outputs": [
    {
     "name": "stdout",
     "output_type": "stream",
     "text": [
      "('Senior Accountant', 'Charlotte, NC', 'The Senior Accountant ensures the accuracy of entries to ledger accounts and reconciles subsidiary ledger accounts to the general ledger. Maintains financial records and ensures that financial transactions are properly recorded. Being a Senior Accountant analyzes current costs, revenues, financial commitments, and obligations incurred to predict future revenues and expenses. Prepares complex balance sheets, profit and loss statements and other financial reports. In addition, Senior Accountant may supervise and guide lower-level accountants. Requires a bachelor&#39;s degree. May require CPA certification. Typically reports to a supervisor or manager. Being a Senior Accountant contributes to moderately complex aspects of a project. Work is generally independent and collaborative in nature. Working as a Senior Accountant typically requires 4 to 7 years of related experience.', '72233', '79790', '88090', '97590', '106239')\n"
     ]
    }
   ],
   "execution_count": 40
  },
  {
   "cell_type": "markdown",
   "metadata": {},
   "source": [
    "### Expanding your data set\n",
    "Having this data for a single city is nice, but wouldn't it be nice to compare the salary statistics for the same position for the largest cities in the united states?  This is exactly what we're going to do next. But, first, let's go ahead and generalize what we've done so far in a function, so that we can apply it to a long list of cities that we'd like to extract data for."
   ]
  },
  {
   "cell_type": "code",
   "metadata": {
    "ExecuteTime": {
     "end_time": "2024-08-17T07:59:55.887021Z",
     "start_time": "2024-08-17T07:59:55.881541Z"
    }
   },
   "source": [
    "def extract_salary_info(job_title, job_city):\n",
    "    \"\"\"Extract and return salary information\"\"\"\n",
    "    template = 'https://www.salary.com/research/salary/alternate/{}-salary/{}'\n",
    " \n",
    "    # build the url based on search criteria\n",
    "    url = template.format(job_title, job_city)\n",
    "\n",
    "    # request the raw html .. check for valid request\n",
    "    try:\n",
    "        response = requests.get(url)\n",
    "        if response.status_code != 200:\n",
    "            return None\n",
    "    except requests.exceptions.ConnectionError:\n",
    "        return None\n",
    "   \n",
    "    # parse the html and extract json data\n",
    "    soup = BeautifulSoup(response.text, 'html.parser')\n",
    "    pattern = re.compile(r'Occupation')\n",
    "    script = soup.find('script', {'type': 'application/ld+json'}, string=pattern)\n",
    "    json_raw = script.contents[0]\n",
    "    json_data = json.loads(json_raw)\n",
    "\n",
    "    # extract salary data\n",
    "    job_title = json_data['name']\n",
    "    location = json_data['occupationLocation'][0]['name']\n",
    "    description = json_data['description']\n",
    "\n",
    "    ntile_10 = json_data['estimatedSalary'][0]['percentile10']\n",
    "    ntile_25 = json_data['estimatedSalary'][0]['percentile25']\n",
    "    ntile_50 = json_data['estimatedSalary'][0]['median']\n",
    "    ntile_75 = json_data['estimatedSalary'][0]['percentile75']\n",
    "    ntile_90 = json_data['estimatedSalary'][0]['percentile90']\n",
    "\n",
    "    data = (job_title, location, description, ntile_10, ntile_25, ntile_50, ntile_75, ntile_90)\n",
    "    return data"
   ],
   "outputs": [],
   "execution_count": 45
  },
  {
   "cell_type": "markdown",
   "metadata": {},
   "source": [
    "Now, let's import a list of cities. I found a list of the top 300+ US cities on Wikipedia, and then I re-formatted the city and state name so that I could easily insert it into this function and url."
   ]
  },
  {
   "cell_type": "code",
   "metadata": {
    "ExecuteTime": {
     "end_time": "2024-08-17T07:59:57.431056Z",
     "start_time": "2024-08-17T07:59:57.427807Z"
    }
   },
   "source": [
    "with open('largest_cities.csv', newline='') as f:\n",
    "    reader = csv.reader(f)\n",
    "    # a reader typically returns each row as a list... so I need to flatten the list to make a single list\n",
    "    cities = [city for row in reader for city in row]"
   ],
   "outputs": [],
   "execution_count": 46
  },
  {
   "cell_type": "code",
   "metadata": {
    "ExecuteTime": {
     "end_time": "2024-08-17T07:59:58.253447Z",
     "start_time": "2024-08-17T07:59:58.249658Z"
    }
   },
   "source": [
    "print(cities[:10])"
   ],
   "outputs": [
    {
     "name": "stdout",
     "output_type": "stream",
     "text": [
      "['New-York-NY', 'Los-Angeles-CA', 'Chicago-IL', 'Houston-TX', 'Phoenix-AZ', 'Philadelphia-PA', 'San-Antonio-TX', 'San-Diego-CA', 'Dallas-TX', 'San-Jose-CA']\n"
     ]
    }
   ],
   "execution_count": 47
  },
  {
   "cell_type": "markdown",
   "metadata": {},
   "source": [
    "### Getting all city data\n",
    "Now I an iterate over each major city in the US, extract the relevant salary information. I'm going to use the sleep function to create a small delay between each request. It's always a good idea to be a good internet citizen and not bombard a server with requests. Primary out of politeness... but also, being impolite with other peoples data and connections is a good way to get yourself banned from their site."
   ]
  },
  {
   "cell_type": "code",
   "metadata": {
    "ExecuteTime": {
     "end_time": "2024-08-17T08:11:10.577651Z",
     "start_time": "2024-08-17T07:59:59.586208Z"
    }
   },
   "source": [
    "salary_data = []\n",
    "for city in cities:\n",
    "    result = extract_salary_info('senior-accountant', city)\n",
    "    if result:\n",
    "        salary_data.append(result)\n",
    "        sleep(0.5)"
   ],
   "outputs": [],
   "execution_count": 48
  },
  {
   "cell_type": "markdown",
   "metadata": {},
   "source": [
    "### Save the data to csv\n",
    "Finally, we'll save our data to a csv file. "
   ]
  },
  {
   "cell_type": "code",
   "metadata": {
    "ExecuteTime": {
     "end_time": "2024-08-17T07:54:53.916701Z",
     "start_time": "2024-08-17T07:54:53.897256Z"
    }
   },
   "source": [
    "with open('salary-results.csv', 'w', newline='', encoding='utf-8') as f:\n",
    "    writer = csv.writer(f)\n",
    "    writer.writerow(['Title','Location', 'Description', 'nTile10', 'nTile25', 'nTile50', 'nTile75', 'nTile90'])\n",
    "    writer.writerows(salary_data)"
   ],
   "outputs": [],
   "execution_count": 16
  },
  {
   "cell_type": "code",
   "metadata": {
    "ExecuteTime": {
     "end_time": "2024-08-17T08:11:45.732065Z",
     "start_time": "2024-08-17T08:11:45.726101Z"
    }
   },
   "source": [
    "# print the first 5 records\n",
    "for row in salary_data[:5]:\n",
    "    print(row)"
   ],
   "outputs": [
    {
     "name": "stdout",
     "output_type": "stream",
     "text": [
      "('Senior Accountant', 'New York, NY', 'The Senior Accountant ensures the accuracy of entries to ledger accounts and reconciles subsidiary ledger accounts to the general ledger. Maintains financial records and ensures that financial transactions are properly recorded. Being a Senior Accountant analyzes current costs, revenues, financial commitments, and obligations incurred to predict future revenues and expenses. Prepares complex balance sheets, profit and loss statements and other financial reports. In addition, Senior Accountant may supervise and guide lower-level accountants. Requires a bachelor&#39;s degree. May require CPA certification. Typically reports to a supervisor or manager. Being a Senior Accountant contributes to moderately complex aspects of a project. Work is generally independent and collaborative in nature. Working as a Senior Accountant typically requires 4 to 7 years of related experience.', '86986', '96090', '106090', '117490', '127869')\n",
      "('Senior Accountant', 'Los Angeles, CA', 'The Senior Accountant ensures the accuracy of entries to ledger accounts and reconciles subsidiary ledger accounts to the general ledger. Maintains financial records and ensures that financial transactions are properly recorded. Being a Senior Accountant analyzes current costs, revenues, financial commitments, and obligations incurred to predict future revenues and expenses. Prepares complex balance sheets, profit and loss statements and other financial reports. In addition, Senior Accountant may supervise and guide lower-level accountants. Requires a bachelor&#39;s degree. May require CPA certification. Typically reports to a supervisor or manager. Being a Senior Accountant contributes to moderately complex aspects of a project. Work is generally independent and collaborative in nature. Working as a Senior Accountant typically requires 4 to 7 years of related experience.', '82850', '91590', '101190', '111990', '121823')\n",
      "('Senior Accountant', 'Chicago, IL', 'The Senior Accountant ensures the accuracy of entries to ledger accounts and reconciles subsidiary ledger accounts to the general ledger. Maintains financial records and ensures that financial transactions are properly recorded. Being a Senior Accountant analyzes current costs, revenues, financial commitments, and obligations incurred to predict future revenues and expenses. Prepares complex balance sheets, profit and loss statements and other financial reports. In addition, Senior Accountant may supervise and guide lower-level accountants. Requires a bachelor&#39;s degree. May require CPA certification. Typically reports to a supervisor or manager. Being a Senior Accountant contributes to moderately complex aspects of a project. Work is generally independent and collaborative in nature. Working as a Senior Accountant typically requires 4 to 7 years of related experience.', '78096', '86290', '95290', '105490', '114777')\n",
      "('Senior Accountant', 'Houston, TX', 'The Senior Accountant ensures the accuracy of entries to ledger accounts and reconciles subsidiary ledger accounts to the general ledger. Maintains financial records and ensures that financial transactions are properly recorded. Being a Senior Accountant analyzes current costs, revenues, financial commitments, and obligations incurred to predict future revenues and expenses. Prepares complex balance sheets, profit and loss statements and other financial reports. In addition, Senior Accountant may supervise and guide lower-level accountants. Requires a bachelor&#39;s degree. May require CPA certification. Typically reports to a supervisor or manager. Being a Senior Accountant contributes to moderately complex aspects of a project. Work is generally independent and collaborative in nature. Working as a Senior Accountant typically requires 4 to 7 years of related experience.', '74660', '82490', '91090', '100890', '109812')\n",
      "('Senior Accountant', 'Phoenix, AZ', 'The Senior Accountant ensures the accuracy of entries to ledger accounts and reconciles subsidiary ledger accounts to the general ledger. Maintains financial records and ensures that financial transactions are properly recorded. Being a Senior Accountant analyzes current costs, revenues, financial commitments, and obligations incurred to predict future revenues and expenses. Prepares complex balance sheets, profit and loss statements and other financial reports. In addition, Senior Accountant may supervise and guide lower-level accountants. Requires a bachelor&#39;s degree. May require CPA certification. Typically reports to a supervisor or manager. Being a Senior Accountant contributes to moderately complex aspects of a project. Work is generally independent and collaborative in nature. Working as a Senior Accountant typically requires 4 to 7 years of related experience.', '73551', '81290', '89790', '99390', '108130')\n"
     ]
    }
   ],
   "execution_count": 49
  },
  {
   "cell_type": "markdown",
   "metadata": {},
   "source": [
    "### Consolidate into main function"
   ]
  },
  {
   "cell_type": "code",
   "metadata": {
    "ExecuteTime": {
     "end_time": "2024-08-17T08:11:49.013358Z",
     "start_time": "2024-08-17T08:11:49.007424Z"
    }
   },
   "source": [
    "def main(job_title):\n",
    "    \"\"\"Extract salary data from top us cities\"\"\"\n",
    "    \n",
    "    # get the list of largest us cities\n",
    "    with open('largest_cities.csv', newline='') as f:\n",
    "        reader = csv.reader(f)\n",
    "        # a reader typically returns each row as a list... so I need to flatten the list to make a single list\n",
    "        cities = [city for row in reader for city in row]\n",
    "        \n",
    "    # extract salary data for each city\n",
    "    salary_data = []\n",
    "    for city in cities:\n",
    "        result = extract_salary_info(job_title, city)\n",
    "        if result:\n",
    "            salary_data.append(result)\n",
    "            sleep(0.5)\n",
    "            \n",
    "    # save data to csv file\n",
    "    with open('salary-results.csv', 'w', newline='', encoding='utf-8') as f:\n",
    "        writer = csv.writer(f)\n",
    "        writer.writerow(['Title','Location', 'Description', 'nTile10', 'nTile25', 'nTile50', 'nTile75', 'nTile90'])\n",
    "        writer.writerows(salary_data)\n",
    "        \n",
    "    return salary_data"
   ],
   "outputs": [],
   "execution_count": 50
  },
  {
   "metadata": {},
   "cell_type": "code",
   "outputs": [],
   "execution_count": null,
   "source": ""
  }
 ],
 "metadata": {
  "kernelspec": {
   "display_name": "Python 3",
   "language": "python",
   "name": "python3"
  },
  "language_info": {
   "codemirror_mode": {
    "name": "ipython",
    "version": 3
   },
   "file_extension": ".py",
   "mimetype": "text/x-python",
   "name": "python",
   "nbconvert_exporter": "python",
   "pygments_lexer": "ipython3",
   "version": "3.8.3"
  }
 },
 "nbformat": 4,
 "nbformat_minor": 4
}
